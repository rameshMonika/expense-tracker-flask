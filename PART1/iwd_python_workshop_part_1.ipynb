{
  "cells": [
    {
      "cell_type": "markdown",
      "metadata": {
        "id": "fDSemxpOdcHd"
      },
      "source": [
        "# **PYTHON WORKSHOP PART 1**\n",
        "Welcome to python workshop part 1,  we're glad you are here with us! 🙌\n",
        "In this section, we will be discussing the basics of python and provide you the fundamentals for building an expense tracker. 💸\n",
        "Feel free to voice out anytime in the **zoom chat** if you encounter any issues or need help."
      ]
    },
    {
      "cell_type": "markdown",
      "metadata": {
        "id": "s8GrBiGwlx0B"
      },
      "source": [
        "Lesson 1 : Variables and Data Types\n",
        "\n",
        "Variables are containers for storing data values.\n"
      ]
    },
    {
      "cell_type": "code",
      "execution_count": null,
      "metadata": {
        "id": "qDfjYxzRdYUC"
      },
      "outputs": [],
      "source": [
        "# Variables store data values in Python.\n",
        "first_name = 'John' #'first_name' is the name of the variable, initial value of 'John'\n",
        "last_name = 'Lee'\n",
        "fullname = first_name + ' ' + last_name #variable reference\n",
        "print(\"My full name is \" + fullname)\n",
        "\n",
        "first_name = 'Jane'\n",
        "print(\"New first name is \" + first_name) #assignment statement"
      ]
    },
    {
      "cell_type": "code",
      "execution_count": null,
      "metadata": {
        "collapsed": true,
        "id": "EW3RvH0No1lX"
      },
      "outputs": [],
      "source": [
        "#Variables can have different types.\n",
        "#we use 'type()' to check the type of variables\n",
        "print(type(123))\n",
        "print(type('123'))\n",
        "print(type(12.3))\n",
        "print(type(None))"
      ]
    },
    {
      "cell_type": "markdown",
      "metadata": {
        "id": "-ge5MCGOthXf"
      },
      "source": [
        "Lesson 2 : Dictionaries, Lists, Tuples\n"
      ]
    },
    {
      "cell_type": "code",
      "execution_count": null,
      "metadata": {
        "id": "93TfmB0TtpSt"
      },
      "outputs": [],
      "source": [
        "#Dictionary\n",
        "thisdict = {\n",
        "  \"name\": \"John\", #key:value\n",
        "  \"school\": \"SIT\",\n",
        "  \"age\": 23\n",
        "}\n",
        "print(thisdict)"
      ]
    },
    {
      "cell_type": "code",
      "execution_count": 7,
      "metadata": {
        "colab": {
          "base_uri": "https://localhost:8080/"
        },
        "id": "C-uktMteu01B",
        "outputId": "7f4b2ed2-28a8-4df4-ec2f-70b7aa07c403"
      },
      "outputs": [
        {
          "name": "stdout",
          "output_type": "stream",
          "text": [
            "SIT\n"
          ]
        }
      ],
      "source": [
        "#get the item via key\n",
        "print(thisdict[\"school\"])"
      ]
    },
    {
      "cell_type": "code",
      "execution_count": 10,
      "metadata": {
        "colab": {
          "base_uri": "https://localhost:8080/"
        },
        "id": "3L8LreifxWEl",
        "outputId": "21ff278d-a848-41df-86d6-4b6335c1668e"
      },
      "outputs": [
        {
          "name": "stdout",
          "output_type": "stream",
          "text": [
            "['apple', 'banana', 'cherry', 'banana']\n"
          ]
        }
      ],
      "source": [
        "#use the list() constructor to create a list\n",
        "thislist = list((\"apple\", \"banana\", \"cherry\", \"banana\"))\n",
        "print(thislist)"
      ]
    },
    {
      "cell_type": "code",
      "execution_count": null,
      "metadata": {
        "id": "ty2tlSjNxdRI"
      },
      "outputs": [],
      "source": [
        "#List can contain different data types\n",
        "list1 = [\"abc\", 34, True, 40, \"male\"]\n",
        "print(list1)"
      ]
    },
    {
      "cell_type": "code",
      "execution_count": null,
      "metadata": {
        "id": "V-ILiG5Fx8pl"
      },
      "outputs": [],
      "source": [
        "#Tuple is similar to lists\n",
        "#but values cannot be changed\n",
        "#instead of [] in lists, we now use () in tuple\n",
        "thistuple = (10, 20, 30)\n",
        "\n",
        "print(thistuple)\n",
        "print(type(thistuple))"
      ]
    },
    {
      "cell_type": "markdown",
      "metadata": {
        "id": "Cgxpcq4AoQVw"
      },
      "source": [
        "Lesson 3 : Loops\n",
        "\n",
        "Iterative\n",
        "\n",
        "We will be going through the **for** loop\n",
        "\n",
        "Conditional Statements\n",
        "\n",
        "We will be going through the **if** loop.\n"
      ]
    },
    {
      "cell_type": "code",
      "execution_count": null,
      "metadata": {
        "id": "FLHKFIuCy1i2"
      },
      "outputs": [],
      "source": [
        "#for loop example\n",
        "names = [\"John\", \"Jane\", \"Jack\"]\n",
        "for name in names:\n",
        "  print(name)\n"
      ]
    },
    {
      "cell_type": "code",
      "execution_count": null,
      "metadata": {
        "id": "NzId_ahqqSCt"
      },
      "outputs": [],
      "source": [
        "#if loop example\n",
        "a = 33\n",
        "b = 200\n",
        "if b > a:\n",
        "print(\"b is greater than a\") #will this get an error?"
      ]
    },
    {
      "cell_type": "code",
      "execution_count": 1,
      "metadata": {
        "colab": {
          "base_uri": "https://localhost:8080/"
        },
        "id": "f8vBuWgOJFm4",
        "outputId": "350c654f-2093-4314-bd7f-ec997a204922"
      },
      "outputs": [
        {
          "name": "stdout",
          "output_type": "stream",
          "text": [
            "b is greater than a\n"
          ]
        }
      ],
      "source": [
        "#re-write the above program with the correct identations"
      ]
    },
    {
      "cell_type": "markdown",
      "metadata": {
        "id": "v8TiEhqBJyCc"
      },
      "source": [
        "**Elif**\n",
        "\n",
        "Elif is python's way of saying \"if not the previous conditions, then this one\""
      ]
    },
    {
      "cell_type": "code",
      "execution_count": null,
      "metadata": {
        "id": "z9YgaqEQJ3RW"
      },
      "outputs": [],
      "source": [
        "a = 33\n",
        "b = 20\n",
        "if b > a:\n",
        "  print(\"b is greater than a\")\n",
        "elif a == b:\n",
        "  print(\"a and b are equal\")\n",
        "else:\n",
        "  print(\"\") #fill in this"
      ]
    },
    {
      "cell_type": "markdown",
      "metadata": {
        "id": "RfwJCzPPKXZj"
      },
      "source": [
        "Lesson 4:\n",
        "**Functions**\n",
        "\n",
        "Functions make your code look neater and organised.\n",
        "Take note of naming conventions. It is best to name the function something meaningful to make it easier to understand."
      ]
    },
    {
      "cell_type": "code",
      "execution_count": null,
      "metadata": {
        "id": "HpG0MV6PX0rt"
      },
      "outputs": [],
      "source": [
        "def add(a, b, c):\n",
        "\n",
        "    # returning sum of a and b\n",
        "    return a + b + c\n",
        "\n",
        "def subtract(a, b):\n",
        "\n",
        "    return b - a\n",
        "\n",
        "# calling function\n",
        "res = add(2, 3) #correct the error\n",
        "print(res)\n",
        "\n",
        "#call the function directly into print\n",
        "print(subtract(3, 5))\n",
        "\n",
        "#write your own function to perform division (/) of 2 numbers\n",
        "\n",
        "\n",
        "#call the divide function"
      ]
    },
    {
      "cell_type": "markdown",
      "metadata": {
        "id": "Z5ZCdFXfaf-t"
      },
      "source": [
        "Lesson 5: **FILE I/O**\n",
        "\n",
        "Reading and Writing ***JSON***\n",
        "\n",
        "*Reading JSON files*\n",
        "1. Import the json module.\n",
        "2. Open the JSON file using Python's open() function with the mode set to r.\n",
        "3. Use the json.load() function to load the contents of the file as a Python dictionary."
      ]
    },
    {
      "cell_type": "code",
      "execution_count": 5,
      "metadata": {
        "colab": {
          "base_uri": "https://localhost:8080/"
        },
        "id": "rfM2GkKxa6tg",
        "outputId": "34acf48c-bde0-43c7-d9af-c070c1216d7c"
      },
      "outputs": [
        {
          "name": "stdout",
          "output_type": "stream",
          "text": [
            "{'name': 'John', 'age': '25', 'school': 'SIT'}\n"
          ]
        }
      ],
      "source": [
        "import json\n",
        "\n",
        "# Open the JSON file\n",
        "with open('output.json') as f:\n",
        "    data = json.load(f)\n",
        "\n",
        "# Print the data (it will be stored as a Python dictionary)\n",
        "print(data)"
      ]
    },
    {
      "cell_type": "markdown",
      "metadata": {
        "id": "3reudz6Zc3FA"
      },
      "source": [
        "*Writing JSON files*\n",
        "1. Define the data that you want to write as a Python dictionary.\n",
        "2. pen a new file using Python's open() function.\n",
        "3.Use the json.dump() function to write the dictionary data to the file in JSON format."
      ]
    },
    {
      "cell_type": "code",
      "execution_count": 4,
      "metadata": {
        "id": "in0BVG8ldAFQ"
      },
      "outputs": [],
      "source": [
        "import json\n",
        "\n",
        "# Define the data as a Python dictionary\n",
        "data = {\n",
        "    'name': 'John',\n",
        "    'age': '25',\n",
        "    'school': 'SIT'\n",
        "}\n",
        "\n",
        "# Write data to a JSON file\n",
        "with open('output.json', 'w') as f:\n",
        "    json.dump(data, f)"
      ]
    },
    {
      "cell_type": "markdown",
      "metadata": {
        "id": "f8FjnvPLdb1E"
      },
      "source": [
        "Now you have acquired the basics of Python! 🙂\n",
        "\n",
        "Next Step - Building your own expense tracker (Workshop Part 2) ⚡"
      ]
    }
  ],
  "metadata": {
    "colab": {
      "provenance": []
    },
    "kernelspec": {
      "display_name": "Python 3",
      "name": "python3"
    },
    "language_info": {
      "name": "python"
    }
  },
  "nbformat": 4,
  "nbformat_minor": 0
}
